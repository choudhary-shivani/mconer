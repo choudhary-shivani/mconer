{
 "cells": [
  {
   "cell_type": "code",
   "execution_count": 1,
   "id": "2cba5d19",
   "metadata": {},
   "outputs": [],
   "source": [
    "import torch "
   ]
  },
  {
   "cell_type": "code",
   "execution_count": 2,
   "id": "789a6263",
   "metadata": {},
   "outputs": [],
   "source": [
    "from torch import nn"
   ]
  },
  {
   "cell_type": "code",
   "execution_count": 33,
   "id": "49d94bd9",
   "metadata": {},
   "outputs": [],
   "source": [
    "x = nn.Parameter(torch.Tensor(768*2,1))"
   ]
  },
  {
   "cell_type": "code",
   "execution_count": 34,
   "id": "19747420",
   "metadata": {},
   "outputs": [],
   "source": [
    "x = nn.init.uniform_(x, -0.1, 0.1)"
   ]
  },
  {
   "cell_type": "code",
   "execution_count": 35,
   "id": "eff36ce7",
   "metadata": {},
   "outputs": [],
   "source": [
    "k = torch.cat([torch.randn(32,17,768), torch.randn(32,17,768)], dim=-1)"
   ]
  },
  {
   "cell_type": "code",
   "execution_count": 36,
   "id": "5f87c12d",
   "metadata": {},
   "outputs": [],
   "source": [
    "p = torch.matmul(k,x)"
   ]
  },
  {
   "cell_type": "code",
   "execution_count": 37,
   "id": "a9f3b697",
   "metadata": {},
   "outputs": [
    {
     "data": {
      "text/plain": [
       "torch.Size([32, 17, 1536])"
      ]
     },
     "execution_count": 37,
     "metadata": {},
     "output_type": "execute_result"
    }
   ],
   "source": [
    "(p * k ).shape"
   ]
  },
  {
   "cell_type": "code",
   "execution_count": null,
   "id": "eaf090eb",
   "metadata": {},
   "outputs": [],
   "source": []
  }
 ],
 "metadata": {
  "kernelspec": {
   "display_name": "Python 3 (ipykernel)",
   "language": "python",
   "name": "python3"
  },
  "language_info": {
   "codemirror_mode": {
    "name": "ipython",
    "version": 3
   },
   "file_extension": ".py",
   "mimetype": "text/x-python",
   "name": "python",
   "nbconvert_exporter": "python",
   "pygments_lexer": "ipython3",
   "version": "3.9.13"
  }
 },
 "nbformat": 4,
 "nbformat_minor": 5
}
