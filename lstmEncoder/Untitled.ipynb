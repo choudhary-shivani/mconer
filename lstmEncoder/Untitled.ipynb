{
 "cells": [
  {
   "cell_type": "code",
   "execution_count": 1,
   "id": "42ae4f4a",
   "metadata": {},
   "outputs": [],
   "source": [
    "import torch\n",
    "import string\n",
    "import glob\n",
    "import unicodedata\n",
    "import pandas as pd\n",
    "from torch.utils.data import Dataset\n",
    "from sklearn.model_selection import train_test_split\n",
    "from customlstm import CustomLSTM\n",
    "from dataprep import Serialdata"
   ]
  },
  {
   "cell_type": "code",
   "execution_count": 2,
   "id": "b71a5a32",
   "metadata": {},
   "outputs": [],
   "source": [
    "class InferSerialData(Dataset):\n",
    "    def __init__(self):\n",
    "        self.all_chars = string.ascii_letters + \" .,;'\"\n",
    "        self.num_char = len(self.all_chars)\n",
    "        self.all_chars_dict = {v: k for k, v in enumerate(self.all_chars)}\n",
    "        self.all_instances = []\n",
    "    \n",
    "    def unicodeToAscii(self, s):\n",
    "        return ''.join(\n",
    "            c for c in unicodedata.normalize('NFD', s)\n",
    "            if unicodedata.category(c) != 'Mn'\n",
    "            and c in self.all_chars\n",
    "        )\n",
    "    \n",
    "    def convert(self, line):\n",
    "        \n",
    "        temp = map(lambda a: self.all_chars_dict.get(a, self.num_char), self.unicodeToAscii(line))\n",
    "        return torch.tensor(list(temp))"
   ]
  },
  {
   "cell_type": "code",
   "execution_count": 3,
   "id": "c2b32450",
   "metadata": {},
   "outputs": [],
   "source": [
    "infd = InferSerialData()"
   ]
  },
  {
   "cell_type": "code",
   "execution_count": 4,
   "id": "fd1d68c0",
   "metadata": {},
   "outputs": [
    {
     "data": {
      "text/plain": [
       "tensor([ 0, 12, 20, 11,  4, 19, 14, 18])"
      ]
     },
     "execution_count": 4,
     "metadata": {},
     "output_type": "execute_result"
    }
   ],
   "source": [
    "infd.convert(\"amuletos\")"
   ]
  },
  {
   "cell_type": "code",
   "execution_count": 5,
   "id": "ef00865d",
   "metadata": {},
   "outputs": [],
   "source": [
    "# load lstm model for encoding\n",
    "# sd = Serialdata('combined.tsv')"
   ]
  },
  {
   "cell_type": "code",
   "execution_count": 6,
   "id": "53a5a3df",
   "metadata": {},
   "outputs": [],
   "source": [
    "# sd.num_char"
   ]
  },
  {
   "cell_type": "code",
   "execution_count": 7,
   "id": "9ae22531",
   "metadata": {},
   "outputs": [
    {
     "name": "stdout",
     "output_type": "stream",
     "text": [
      "{'air': 0, 'art': 1, 'drink': 2, 'lw': 3, 'vw': 4}\n"
     ]
    }
   ],
   "source": [
    "model = CustomLSTM(58, 256, num_layers=2).to('cuda')"
   ]
  },
  {
   "cell_type": "code",
   "execution_count": 8,
   "id": "9c619f62",
   "metadata": {},
   "outputs": [
    {
     "data": {
      "text/plain": [
       "<All keys matched successfully>"
      ]
     },
     "execution_count": 8,
     "metadata": {},
     "output_type": "execute_result"
    }
   ],
   "source": [
    "model.load_state_dict(torch.load('lstm_model.pt'))"
   ]
  },
  {
   "cell_type": "code",
   "execution_count": 11,
   "id": "59ab780e",
   "metadata": {},
   "outputs": [
    {
     "name": "stderr",
     "output_type": "stream",
     "text": [
      "C:\\Users\\Rah12937\\AppData\\Local\\Temp\\ipykernel_34112\\2130371112.py:1: UserWarning: To copy construct from a tensor, it is recommended to use sourceTensor.clone().detach() or sourceTensor.clone().detach().requires_grad_(True), rather than torch.tensor(sourceTensor).\n",
      "  x, y = model(torch.tensor(infd.convert(\"amuletos\")).unsqueeze(0).to('cuda'))\n"
     ]
    }
   ],
   "source": [
    "x, y = model(torch.tensor(infd.convert(\"amuletos\")).unsqueeze(0).to('cuda'))"
   ]
  },
  {
   "cell_type": "code",
   "execution_count": 57,
   "id": "9be53310",
   "metadata": {},
   "outputs": [
    {
     "name": "stderr",
     "output_type": "stream",
     "text": [
      "C:\\Users\\Rah12937\\AppData\\Local\\Temp\\ipykernel_34112\\369803096.py:1: UserWarning: To copy construct from a tensor, it is recommended to use sourceTensor.clone().detach() or sourceTensor.clone().detach().requires_grad_(True), rather than torch.tensor(sourceTensor).\n",
      "  p = torch.tensor(infd.convert(\",\")).unsqueeze(0)\n"
     ]
    }
   ],
   "source": [
    "p = torch.tensor(infd.convert(\",\")).unsqueeze(0)"
   ]
  },
  {
   "cell_type": "code",
   "execution_count": 58,
   "id": "329bb7ad",
   "metadata": {},
   "outputs": [
    {
     "data": {
      "text/plain": [
       "tensor([[54]])"
      ]
     },
     "execution_count": 58,
     "metadata": {},
     "output_type": "execute_result"
    }
   ],
   "source": [
    "p"
   ]
  },
  {
   "cell_type": "code",
   "execution_count": 59,
   "id": "ed4d5ea9",
   "metadata": {},
   "outputs": [
    {
     "data": {
      "text/plain": [
       "torch.Size([1, 1, 58])"
      ]
     },
     "execution_count": 59,
     "metadata": {},
     "output_type": "execute_result"
    }
   ],
   "source": [
    "list(model.named_children())[0][1](p.to('cuda')).shape"
   ]
  },
  {
   "cell_type": "code",
   "execution_count": 35,
   "id": "ec7ac87d",
   "metadata": {},
   "outputs": [
    {
     "data": {
      "text/plain": [
       "torch.Size([1, 256])"
      ]
     },
     "execution_count": 35,
     "metadata": {},
     "output_type": "execute_result"
    }
   ],
   "source": [
    "y[0,:, :].shape"
   ]
  },
  {
   "cell_type": "code",
   "execution_count": 42,
   "id": "9b8e2fdf",
   "metadata": {},
   "outputs": [
    {
     "data": {
      "text/plain": [
       "torch.Size([1, 1, 256])"
      ]
     },
     "execution_count": 42,
     "metadata": {},
     "output_type": "execute_result"
    }
   ],
   "source": [
    "torch.mean(y, dim=0, keepdim=True).shape"
   ]
  },
  {
   "cell_type": "code",
   "execution_count": 49,
   "id": "11f946c4",
   "metadata": {},
   "outputs": [],
   "source": [
    "k = torch.randn([1,1,768]).to('cuda')"
   ]
  },
  {
   "cell_type": "code",
   "execution_count": 51,
   "id": "5e5c67f6",
   "metadata": {},
   "outputs": [
    {
     "data": {
      "text/plain": [
       "torch.Size([1, 1, 1024])"
      ]
     },
     "execution_count": 51,
     "metadata": {},
     "output_type": "execute_result"
    }
   ],
   "source": [
    "torch.cat([torch.mean(y, dim=0, keepdim=True),k], dim=2).shape"
   ]
  },
  {
   "cell_type": "code",
   "execution_count": 67,
   "id": "a32cd9d6",
   "metadata": {},
   "outputs": [
    {
     "data": {
      "text/plain": [
       "tensor([0., 0., 0., 0., 0., 0., 0., 0., 0., 0., 0., 0., 0., 0., 0., 0., 0., 0., 0., 0., 0., 0., 0., 0.,\n",
       "        0., 0., 0., 0., 0., 0., 0., 0., 0., 0., 0., 0., 0., 0., 0., 0., 0., 0., 0., 0., 0., 0., 0., 0.,\n",
       "        0., 0., 0., 0., 0., 0., 0., 0., 0., 0.], device='cuda:0',\n",
       "       grad_fn=<EmbeddingBackward0>)"
      ]
     },
     "execution_count": 67,
     "metadata": {},
     "output_type": "execute_result"
    }
   ],
   "source": [
    "list(model.named_children())[0][1](torch.tensor(57).cuda())"
   ]
  },
  {
   "cell_type": "code",
   "execution_count": 72,
   "id": "d5b00435",
   "metadata": {},
   "outputs": [
    {
     "data": {
      "text/plain": [
       "tensor([[[-1.4850e-01,  1.1388e-01, -8.1643e-02,  3.9785e-02, -2.1584e-01,\n",
       "          -7.8105e-02,  1.8852e-01, -4.2600e-01, -9.7662e-02, -6.5057e-03,\n",
       "          -1.1884e-01,  1.4623e-02, -1.0047e-01,  5.3203e-03, -1.3843e-01,\n",
       "          -2.0081e-02, -8.4136e-02, -3.2791e-01,  3.9768e-01,  1.1855e-01,\n",
       "           3.2262e-01, -2.5397e-02,  8.9044e-03,  2.3012e-01,  5.9491e-04,\n",
       "          -8.0250e-02, -1.1846e-01, -7.2692e-02, -8.9033e-02,  6.3456e-03,\n",
       "          -5.1993e-02,  1.1373e-02,  3.2933e-01,  1.3531e-01, -1.3157e-02,\n",
       "          -3.4644e-01,  3.9366e-01,  1.8917e-01, -1.3925e-02, -1.3347e-02,\n",
       "           5.2372e-02, -7.7973e-02,  1.3047e-01,  3.8390e-01,  3.3486e-02,\n",
       "           2.7461e-02, -1.8372e-01, -1.5298e-02, -1.3282e-01,  4.9432e-02,\n",
       "           3.0092e-01,  1.9120e-01,  2.6052e-01,  3.9349e-02,  3.7179e-02,\n",
       "           4.3459e-02,  1.4674e-02,  2.7423e-01,  4.3230e-02,  7.2920e-02,\n",
       "           1.7448e-01, -2.7882e-01,  2.7586e-01, -1.1346e-01,  1.7647e-01,\n",
       "          -8.8797e-02, -6.4982e-03,  2.6749e-01,  1.2059e-01,  1.0862e-01,\n",
       "          -1.9565e-01, -4.1442e-02,  4.0231e-03,  1.3261e-01, -1.7282e-01,\n",
       "          -4.5832e-01,  2.7348e-01, -1.0739e-02, -1.2411e-02,  2.3400e-02,\n",
       "          -3.0207e-02, -1.2304e-02,  1.1878e-02, -3.0367e-01, -2.1346e-01,\n",
       "          -2.1472e-02, -3.1698e-01, -2.5217e-01,  9.8946e-02,  2.6619e-01,\n",
       "           2.7412e-01, -4.2603e-01,  3.3889e-02,  1.1193e-01, -1.1766e-01,\n",
       "           5.0968e-01, -2.5056e-01,  1.1999e-01,  6.1321e-02, -9.7938e-02,\n",
       "          -1.7030e-02,  3.9120e-02, -4.5544e-02, -1.1273e-02, -3.4573e-02,\n",
       "          -1.7144e-01,  5.3740e-02,  3.7106e-01,  5.7882e-02,  6.4540e-02,\n",
       "          -7.9380e-02,  1.8596e-02, -3.0116e-01,  7.2015e-02, -1.8650e-01,\n",
       "           3.2021e-01,  1.0201e-02,  1.7760e-02, -3.1707e-03,  7.7967e-03,\n",
       "          -3.9117e-01,  4.3698e-02,  2.1839e-02,  1.0262e-02,  6.5963e-03,\n",
       "          -6.6856e-02, -1.7129e-01, -2.2270e-01, -2.1001e-02,  1.8297e-01,\n",
       "           4.4503e-02, -2.0482e-01, -7.3665e-02, -3.5071e-01,  1.1720e-01,\n",
       "          -7.1387e-02, -1.5449e-01,  1.7737e-01, -2.4972e-01, -8.5322e-03,\n",
       "           8.8837e-02, -3.7335e-02, -5.2263e-02,  1.7790e-02,  5.2546e-02,\n",
       "          -1.9597e-01, -3.6046e-01, -5.4722e-02, -2.6638e-02,  1.1184e-02,\n",
       "          -1.3610e-01, -6.9778e-02,  4.7394e-02,  5.6498e-02, -1.3444e-01,\n",
       "          -2.1811e-01, -6.8200e-02, -1.4573e-01,  1.0104e-01,  1.0457e-01,\n",
       "          -4.1277e-01, -7.2570e-02, -1.0258e-01,  8.6103e-02, -1.2718e-01,\n",
       "           1.4308e-02,  2.7001e-01,  1.3130e-01, -2.5288e-01,  7.5314e-03,\n",
       "           8.9861e-02,  2.5292e-01, -3.6163e-01,  5.5900e-01,  5.4289e-01,\n",
       "          -5.3998e-02,  5.0263e-01,  9.7068e-02,  1.4828e-01, -1.7265e-01,\n",
       "          -3.3980e-01,  2.8679e-01,  1.4468e-01, -1.9606e-01,  3.2997e-01,\n",
       "           4.2287e-02,  5.5004e-02, -8.2994e-04,  4.3344e-02, -2.2766e-02,\n",
       "           2.8071e-02,  1.4597e-01,  6.5948e-02, -4.4857e-02,  3.6459e-03,\n",
       "           4.1975e-01,  7.9942e-02, -3.2376e-01, -5.3656e-02, -1.2055e-01,\n",
       "           3.3784e-01,  3.2796e-02,  9.6800e-02,  1.4975e-01, -1.1674e-03,\n",
       "          -2.8553e-02, -1.6370e-01,  1.2584e-02,  3.3074e-01,  1.8537e-01,\n",
       "          -8.3753e-03, -1.4524e-01,  1.2069e-02,  1.7717e-02, -3.9741e-01,\n",
       "           4.6585e-02,  2.3976e-01, -9.1786e-02,  1.6640e-01, -8.0861e-02,\n",
       "           2.3769e-01, -1.9067e-02,  3.5924e-01,  2.2693e-01,  3.6669e-01,\n",
       "          -3.3362e-02,  3.7669e-02,  2.9029e-02,  1.3974e-01,  9.7771e-03,\n",
       "          -1.7631e-01,  1.1276e-01, -4.3620e-02,  4.9141e-02, -2.5050e-02,\n",
       "          -3.5593e-01,  6.4971e-02, -3.1976e-01, -1.2635e-01, -2.0703e-01,\n",
       "          -1.4993e-01,  2.9403e-01,  1.9497e-01,  9.3454e-02, -2.6045e-02,\n",
       "          -1.1490e-01, -4.5682e-01,  5.0890e-02, -1.3187e-01,  9.0167e-02,\n",
       "           1.9434e-02,  5.5936e-02, -4.5241e-03,  1.9270e-01, -2.6956e-01,\n",
       "           2.1034e-04]]], device='cuda:0', grad_fn=<MeanBackward1>)"
      ]
     },
     "execution_count": 72,
     "metadata": {},
     "output_type": "execute_result"
    }
   ],
   "source": [
    "torch.mean(y, dim=0, keepdim=True)"
   ]
  },
  {
   "cell_type": "code",
   "execution_count": 74,
   "id": "adc67a17",
   "metadata": {},
   "outputs": [
    {
     "data": {
      "text/plain": [
       "torch.Size([1, 1, 2, 256])"
      ]
     },
     "execution_count": 74,
     "metadata": {},
     "output_type": "execute_result"
    }
   ],
   "source": [
    "torch.stack([torch.mean(y, dim=0, keepdim=True),torch.mean(y, dim=0, keepdim=True)], dim=2).shape"
   ]
  },
  {
   "cell_type": "code",
   "execution_count": 77,
   "id": "5ef6cd67",
   "metadata": {},
   "outputs": [
    {
     "data": {
      "text/plain": [
       "torch.Size([0])"
      ]
     },
     "execution_count": 77,
     "metadata": {},
     "output_type": "execute_result"
    }
   ],
   "source": [
    "torch.tensor([]).size()[0]"
   ]
  }
 ],
 "metadata": {
  "kernelspec": {
   "display_name": "Python 3 (ipykernel)",
   "language": "python",
   "name": "python3"
  },
  "language_info": {
   "codemirror_mode": {
    "name": "ipython",
    "version": 3
   },
   "file_extension": ".py",
   "mimetype": "text/x-python",
   "name": "python",
   "nbconvert_exporter": "python",
   "pygments_lexer": "ipython3",
   "version": "3.9.13"
  }
 },
 "nbformat": 4,
 "nbformat_minor": 5
}
