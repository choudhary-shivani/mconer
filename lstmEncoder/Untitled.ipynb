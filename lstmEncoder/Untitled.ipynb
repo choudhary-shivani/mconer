{
 "cells": [
  {
   "cell_type": "code",
   "execution_count": 1,
   "id": "f1c061e8",
   "metadata": {},
   "outputs": [],
   "source": [
    "import torch\n",
    "import string\n",
    "import glob\n",
    "import unicodedata\n",
    "import pandas as pd\n",
    "from torch.utils.data import Dataset\n",
    "from sklearn.model_selection import train_test_split\n",
    "from customlstm import CustomLSTM\n",
    "from dataprep import Serialdata"
   ]
  },
  {
   "cell_type": "code",
   "execution_count": 2,
   "id": "320b26cd",
   "metadata": {},
   "outputs": [],
   "source": [
    "class InferSerialData(Dataset):\n",
    "    def __init__(self):\n",
    "        self.all_chars = string.ascii_letters + \" .,;'\"\n",
    "        self.num_char = len(self.all_chars)\n",
    "        self.all_chars_dict = {v: k for k, v in enumerate(self.all_chars)}\n",
    "        self.all_instances = []\n",
    "    \n",
    "    def unicodeToAscii(self, s):\n",
    "        return ''.join(\n",
    "            c for c in unicodedata.normalize('NFD', s)\n",
    "            if unicodedata.category(c) != 'Mn'\n",
    "            and c in self.all_chars\n",
    "        )\n",
    "    \n",
    "    def convert(self, lines):\n",
    "        return_data = []\n",
    "        for line in lines:\n",
    "            temp = map(lambda a: self.all_chars_dict.get(a, self.num_char), self.unicodeToAscii(line))\n",
    "            all_data = torch.tensor(list(temp))\n",
    "            if all_data.size()[0] == 0:\n",
    "                all_data = torch.tensor([57])\n",
    "            return_data.append(all_data)\n",
    "        return return_data"
   ]
  },
  {
   "cell_type": "code",
   "execution_count": 3,
   "id": "0bf66fa9",
   "metadata": {},
   "outputs": [],
   "source": [
    "infd = InferSerialData()"
   ]
  },
  {
   "cell_type": "code",
   "execution_count": 4,
   "id": "4655a948",
   "metadata": {},
   "outputs": [],
   "source": [
    "input = infd.convert([\"amuletos\", \"I like this\", \"thunder\"])"
   ]
  },
  {
   "cell_type": "code",
   "execution_count": 5,
   "id": "ea5d4f20",
   "metadata": {},
   "outputs": [],
   "source": [
    "# load lstm model for encoding\n",
    "# sd = Serialdata('combined.tsv')"
   ]
  },
  {
   "cell_type": "code",
   "execution_count": 6,
   "id": "c2a741e4",
   "metadata": {},
   "outputs": [],
   "source": [
    "# sd.num_char"
   ]
  },
  {
   "cell_type": "code",
   "execution_count": 7,
   "id": "14695122",
   "metadata": {},
   "outputs": [],
   "source": [
    "model = CustomLSTM(58, 256, num_layers=2).to('cuda')"
   ]
  },
  {
   "cell_type": "code",
   "execution_count": 8,
   "id": "56c8313a",
   "metadata": {},
   "outputs": [
    {
     "data": {
      "text/plain": [
       "<All keys matched successfully>"
      ]
     },
     "execution_count": 8,
     "metadata": {},
     "output_type": "execute_result"
    }
   ],
   "source": [
    "model.load_state_dict(torch.load('lstm_model.pt'))"
   ]
  },
  {
   "cell_type": "code",
   "execution_count": 9,
   "id": "00057cea",
   "metadata": {},
   "outputs": [
    {
     "ename": "TypeError",
     "evalue": "only integer tensors of a single element can be converted to an index",
     "output_type": "error",
     "traceback": [
      "\u001b[1;31m---------------------------------------------------------------------------\u001b[0m",
      "\u001b[1;31mTypeError\u001b[0m                                 Traceback (most recent call last)",
      "Cell \u001b[1;32mIn[9], line 1\u001b[0m\n\u001b[1;32m----> 1\u001b[0m x, y \u001b[38;5;241m=\u001b[39m model(\u001b[43mtorch\u001b[49m\u001b[38;5;241;43m.\u001b[39;49m\u001b[43mtensor\u001b[49m\u001b[43m(\u001b[49m\u001b[38;5;28;43minput\u001b[39;49m\u001b[43m)\u001b[49m\u001b[38;5;241m.\u001b[39munsqueeze(\u001b[38;5;241m0\u001b[39m)\u001b[38;5;241m.\u001b[39mto(\u001b[38;5;124m'\u001b[39m\u001b[38;5;124mcuda\u001b[39m\u001b[38;5;124m'\u001b[39m))\n",
      "\u001b[1;31mTypeError\u001b[0m: only integer tensors of a single element can be converted to an index"
     ]
    }
   ],
   "source": [
    "x, y = model(torch.tensor(input).unsqueeze(0).to('cuda'))"
   ]
  },
  {
   "cell_type": "code",
   "execution_count": null,
   "id": "bf06446d",
   "metadata": {},
   "outputs": [],
   "source": [
    "p = torch.tensor(infd.convert(\",\")).unsqueeze(0)"
   ]
  },
  {
   "cell_type": "code",
   "execution_count": null,
   "id": "d7b93209",
   "metadata": {},
   "outputs": [],
   "source": [
    "from torch.nn.utils.rnn import pack_padded_sequence, pad_packed_sequence, pad_sequence"
   ]
  },
  {
   "cell_type": "code",
   "execution_count": null,
   "id": "7d344c5a",
   "metadata": {},
   "outputs": [],
   "source": [
    "input_padded = pad_sequence(input, batch_first=True, padding_value=57)"
   ]
  },
  {
   "cell_type": "code",
   "execution_count": null,
   "id": "214bfef0",
   "metadata": {},
   "outputs": [],
   "source": [
    "input"
   ]
  },
  {
   "cell_type": "code",
   "execution_count": null,
   "id": "e312a9ea",
   "metadata": {},
   "outputs": [],
   "source": [
    "list(model.named_children())[0][1](input_padded.to('cuda'))"
   ]
  },
  {
   "cell_type": "code",
   "execution_count": null,
   "id": "640e8067",
   "metadata": {},
   "outputs": [],
   "source": [
    "y[0,:, :].shape"
   ]
  },
  {
   "cell_type": "code",
   "execution_count": null,
   "id": "39c10b46",
   "metadata": {},
   "outputs": [],
   "source": [
    "torch.mean(y, dim=0, keepdim=True).shape"
   ]
  },
  {
   "cell_type": "code",
   "execution_count": null,
   "id": "4031e059",
   "metadata": {},
   "outputs": [],
   "source": [
    "k = torch.randn([1,1,768]).to('cuda')"
   ]
  },
  {
   "cell_type": "code",
   "execution_count": null,
   "id": "6c59346f",
   "metadata": {},
   "outputs": [],
   "source": [
    "torch.cat([torch.mean(y, dim=0, keepdim=True),k], dim=2).shape"
   ]
  },
  {
   "cell_type": "code",
   "execution_count": null,
   "id": "d1dc10f6",
   "metadata": {},
   "outputs": [],
   "source": [
    "list(model.named_children())[0][1](torch.tensor(57).cuda())"
   ]
  },
  {
   "cell_type": "code",
   "execution_count": null,
   "id": "2a6cfa2e",
   "metadata": {},
   "outputs": [],
   "source": [
    "torch.mean(y, dim=0, keepdim=True)"
   ]
  },
  {
   "cell_type": "code",
   "execution_count": null,
   "id": "8515f14e",
   "metadata": {},
   "outputs": [],
   "source": [
    "torch.stack([torch.mean(y, dim=0, keepdim=True),torch.mean(y, dim=0, keepdim=True)], dim=2).shape"
   ]
  },
  {
   "cell_type": "code",
   "execution_count": null,
   "id": "64a23ee9",
   "metadata": {},
   "outputs": [],
   "source": [
    "input_padded.to('cuda').shape"
   ]
  },
  {
   "cell_type": "code",
   "execution_count": null,
   "id": "3042f443",
   "metadata": {},
   "outputs": [],
   "source": [
    "_, t = model(input_padded.to('cuda'))"
   ]
  },
  {
   "cell_type": "code",
   "execution_count": null,
   "id": "9ee7ff83",
   "metadata": {},
   "outputs": [],
   "source": [
    "t.mean(dim=0, keepdim=True).squeeze(0).shape"
   ]
  },
  {
   "cell_type": "code",
   "execution_count": null,
   "id": "d970cac3",
   "metadata": {},
   "outputs": [],
   "source": [
    "z = torch.zeros([5,256])"
   ]
  },
  {
   "cell_type": "code",
   "execution_count": null,
   "id": "3d94d65c",
   "metadata": {},
   "outputs": [],
   "source": [
    "z[:3,:] = t.mean(dim=0, keepdim=True).squeeze(0)"
   ]
  },
  {
   "cell_type": "code",
   "execution_count": null,
   "id": "373b7d4b",
   "metadata": {},
   "outputs": [],
   "source": [
    "torch.cat([torch.randn([32, 38, 768]), torch.randn([32, 38, 256])], dim=-1).shape"
   ]
  },
  {
   "cell_type": "code",
   "execution_count": 20,
   "id": "0a2ac297",
   "metadata": {},
   "outputs": [],
   "source": [
    "target = torch.randn([32,38, 73])"
   ]
  },
  {
   "cell_type": "code",
   "execution_count": 11,
   "id": "c50b4e32",
   "metadata": {},
   "outputs": [],
   "source": [
    "inp = torch.randn([32, 38])"
   ]
  },
  {
   "cell_type": "code",
   "execution_count": 40,
   "id": "21984971",
   "metadata": {},
   "outputs": [],
   "source": [
    "inp = torch.randint(0,65, [32,38])"
   ]
  },
  {
   "cell_type": "code",
   "execution_count": 41,
   "id": "2b9eca25",
   "metadata": {},
   "outputs": [],
   "source": [
    "from kornia.losses import FocalLoss"
   ]
  },
  {
   "cell_type": "code",
   "execution_count": 42,
   "id": "7644d8c3",
   "metadata": {},
   "outputs": [],
   "source": [
    "fl = FocalLoss(alpha=2, reduction='mean')"
   ]
  },
  {
   "cell_type": "code",
   "execution_count": 43,
   "id": "61843d5f",
   "metadata": {},
   "outputs": [
    {
     "data": {
      "text/plain": [
       "torch.Size([32, 73, 38])"
      ]
     },
     "execution_count": 43,
     "metadata": {},
     "output_type": "execute_result"
    }
   ],
   "source": [
    "target.permute(0,2,1).shape"
   ]
  },
  {
   "cell_type": "code",
   "execution_count": 44,
   "id": "9c90e7eb",
   "metadata": {},
   "outputs": [
    {
     "data": {
      "text/plain": [
       "(torch.Size([32, 38, 73]), torch.Size([32, 38]))"
      ]
     },
     "execution_count": 44,
     "metadata": {},
     "output_type": "execute_result"
    }
   ],
   "source": [
    "target.shape, inp.shape"
   ]
  },
  {
   "cell_type": "code",
   "execution_count": 45,
   "id": "7a70c094",
   "metadata": {},
   "outputs": [
    {
     "data": {
      "text/plain": [
       "tensor(9.3483)"
      ]
     },
     "execution_count": 45,
     "metadata": {},
     "output_type": "execute_result"
    }
   ],
   "source": [
    "fl(target.permute(0,2,1), inp)"
   ]
  },
  {
   "cell_type": "code",
   "execution_count": null,
   "id": "594b1443",
   "metadata": {},
   "outputs": [],
   "source": []
  },
  {
   "cell_type": "code",
   "execution_count": null,
   "id": "38eae623",
   "metadata": {},
   "outputs": [],
   "source": []
  }
 ],
 "metadata": {
  "kernelspec": {
   "display_name": "Python 3 (ipykernel)",
   "language": "python",
   "name": "python3"
  },
  "language_info": {
   "codemirror_mode": {
    "name": "ipython",
    "version": 3
   },
   "file_extension": ".py",
   "mimetype": "text/x-python",
   "name": "python",
   "nbconvert_exporter": "python",
   "pygments_lexer": "ipython3",
   "version": "3.9.13"
  }
 },
 "nbformat": 4,
 "nbformat_minor": 5
}
